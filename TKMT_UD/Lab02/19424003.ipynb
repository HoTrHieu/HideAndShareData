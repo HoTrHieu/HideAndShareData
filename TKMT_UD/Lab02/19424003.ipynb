{
 "cells": [
  {
   "cell_type": "code",
   "execution_count": 13,
   "metadata": {},
   "outputs": [],
   "source": [
    "from IPython.display import SVG, Math\n",
    "from fractions import Fraction as F\n",
    "import matplotlib.pyplot as plt\n",
    "import random"
   ]
  },
  {
   "cell_type": "markdown",
   "metadata": {},
   "source": [
    "#### 19424003 Hồ Trung Hiếu"
   ]
  },
  {
   "source": [
    "# THỐNG KÊ MÁY TÍNH VÀ ỨNG DỤNG"
   ],
   "cell_type": "markdown",
   "metadata": {}
  },
  {
   "cell_type": "markdown",
   "metadata": {},
   "source": [
    "## Bài 1: Xét thí nghiệm tung một đồng xu đồng chất 3 lần, kiểm tra xem các cặp biến cố sau đây có độc lập không:\n",
    "\n",
    "### a)  A : lần 1 được mặt ngửa,  B : lần 2 và lần 3 được mặt sấp.\n",
    "\n",
    "### b)  A : lần 1 được mặt ngửa,  B : có đúng 2 lần được mặt sấp.\n",
    "\n",
    "### c)  A : lần 1 được mặt ngửa,  B : có đúng 2 lần liên tiếp được mặt sấp.\n",
    "\n",
    "### d)  A : lần 2 được mặt ngửa,  B : có đúng 2 lần liên tiếp được mặt sấp."
   ]
  },
  {
   "source": [
    "- note: 2 biến cố {A, B} được gọi là độc lập với nhau nếu: \n",
    "$\n",
    "P(A \\cap B) = P(A) \\times P(B)\n",
    "\\Leftrightarrow P(A|B) = P(A) (nếu P(B) > 0)\n",
    "\\Leftrightarrow P(B|A) = P(B) (nếu P(A) > 0)\n",
    "$\n",
    "\n",
    "- Tung đồng xu đồng chất 3 lần => $\\Omega = \\{HHH, HHT,..., TTT \\}  $\n",
    "=> $|\\Omega| = 2^3 = 8$ \n",
    "- Gọi $A_{i}$ là biến cố lần i được mặt ngửa\n",
    "+ $A_{1}=\\{HHH, HHT, HTH, HTT\\}$\n",
    "+ $A_{2}=\\{HHH, HHT, THH, THT\\}$\n",
    "\n",
    "#### a\n",
    "- Gọi B là biến cố lần 2 và lần 3 được mặt sấp\n",
    "$B=\\{HTT, TTT\\}$\n",
    "\n",
    "- $|A_{1} \\cap B| = |\\{HTT \\}| = 1$\n",
    "- $P(A_{1} \\cap B) = \\frac{1}{8} $\n",
    "- $P(A_{1}) = \\frac{|\\{HHH, HHT, HTH, HTT\\}|} {|\\Omega|} = \\frac{4}{8} $\n",
    "- $P(B) = \\frac{|\\{HTT, TTT\\}|} {|\\Omega|} = \\frac{2}{8} $\n",
    "- $P(A_{1} \\cap B) = P(A_{1}) \\times P(B) = \\frac{1}{8}$\n",
    "=> cặp biến cố là độc lập\n",
    "\n",
    "#### b\n",
    "- Gọi B là biến cố có đúng 2 lần được mặt sấp\n",
    "$B=\\{HTT, THT, TTH\\}$\n",
    "\n",
    "- $|A_{1} \\cap B| = |\\{HTT \\}| = 1$\n",
    "- $P(A_{1} \\cap B) = \\frac{1}{8} $\n",
    "- $P(A_{1}) = \\frac{4}{8} $\n",
    "- $P(B) = \\frac{|\\{HTT, THT, TTH\\}|} {|\\Omega|} = \\frac{3}{8} $\n",
    "- $P(A_{1} \\cap B) \\neq P(A_{1}) \\times P(B)$\n",
    "=> cặp biến cố không độc lập\n",
    "\n",
    "\n",
    "#### c \n",
    "- Gọi B là biến cố có đúng 2 lần liên tiếp được mặt sấp\n",
    "$B=\\{HTT, TTH\\}$\n",
    "\n",
    "- $|A_{1} \\cap B| = |\\{HTT \\}| = 1$\n",
    "- $P(A_{1} \\cap B) = \\frac{1}{8} $\n",
    "- $P(A_{1}) = \\frac{4}{8} $\n",
    "- $P(B) = \\frac{|\\{HTT, TTH\\}|} {|\\Omega|} = \\frac{2}{8} $\n",
    "- $P(A_{1} \\cap B) = P(A_{1}) \\times P(B)$\n",
    "=> cặp biến cố là độc lập\n",
    "\n",
    "\n",
    "#### d\n",
    "- Gọi B là biến cố có đúng 2 lần liên tiếp được mặt sấp\n",
    "$B=\\{HTT, TTH\\}$\n",
    "\n",
    "- $|A_{2} \\cap B| = |\\{HTT \\}| = \\emptyset$\n",
    "- $P(A_{2} \\cap B) = 0 $\n",
    "- $P(A_{2}) = \\frac{4}{8} $\n",
    "- $P(B) = \\frac{|\\{HTT, TTH\\}|} {|\\Omega|} = \\frac{2}{8} $\n",
    "- $P(A_{2} \\cap B) \\neq P(A_{1}) \\times P(B)$\n",
    "=> cặp biến cố không độc lập"
   ],
   "cell_type": "markdown",
   "metadata": {}
  },
  {
   "cell_type": "markdown",
   "metadata": {},
   "source": [
    "## Bài 2: Một nghiên cứu về ung thư vú cho biết:\n",
    "\n",
    "### tỷ lệ sống quá 5 năm là 85%,\n",
    "### tỷ lệ không có hạch di căn trong số những người sống quá 5 năm là 85%,\n",
    "### tỷ lệ có hạch di căn trong số những người không sống quá 5 năm là 75%.\n",
    "Một người bị ung thư vú mà có hạch di căn, tính khả năng người này sống quá 5 năm."
   ]
  },
  {
   "cell_type": "markdown",
   "metadata": {},
   "source": [
    "- Gọi A là biến cố sống quá 5 năm\n",
    "- Gọi B là biến cố không có hạch di canh\n",
    "\n",
    "các tham số đã biết:\n",
    "- P(A) = 85% (xác suất sống quá 5 năm khi bị ung thư vú)\n",
    "- => $P(A^c) = 15\\%$ (xác suất sống không quá 5 năm khi bị ung thư vú)\n",
    "- $P(B|A) = 85\\%$ (xác suất không có hạch di căn trong số những người sống quá 5 năm)\n",
    "- => $P(B^c|A) = 15\\%$ (xác suất có hạch di căn trong số những người sống quá 5 năm)\n",
    "- $P(B^c|A^c) = 75\\%$ (xác suất có hạch di căn trong số những người sống không quá 5 năm)\n",
    "- => $P(B|A^c) = 25\\%$ (( xác suất không có hạch di căn trong số những người sống không quá 5 năm)\n",
    "\n",
    "- => cần tìm: $P(A|B^c)$ (xác suất sống quá 5 năm khi có hạch di căn)"
   ]
  },
  {
   "source": [
    "- Áp dụng định lý bayes ta có:\n",
    "- $P(A|B^c) = \\frac{P(A) \\times P(B^c|A)}{P(A) \\times P(B^c|A) + P(A^c) \\times P(B^c|A^c) }\n",
    "= \\frac{85 \\times 15}{85 \\times 15 + 15 \\times 75}\n",
    "= \\frac{17}{32} = 0.53125\n",
    "$\n",
    "- => vậy xác suất người này sống quá 5 năm là 53.125%"
   ],
   "cell_type": "markdown",
   "metadata": {}
  }
 ],
 "metadata": {
  "kernelspec": {
   "display_name": "Python 3",
   "language": "python",
   "name": "python3"
  },
  "language_info": {
   "codemirror_mode": {
    "name": "ipython",
    "version": 3
   },
   "file_extension": ".py",
   "mimetype": "text/x-python",
   "name": "python",
   "nbconvert_exporter": "python",
   "pygments_lexer": "ipython3",
   "version": "3.7.6-final"
  }
 },
 "nbformat": 4,
 "nbformat_minor": 4
}