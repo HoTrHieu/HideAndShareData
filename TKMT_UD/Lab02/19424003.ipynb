{
 "cells": [
  {
   "cell_type": "code",
   "execution_count": 1,
   "metadata": {},
   "outputs": [],
   "source": [
    "from IPython.display import SVG, Math\n",
    "from fractions import Fraction as F\n",
    "import matplotlib.pyplot as plt\n",
    "import random"
   ]
  },
  {
   "cell_type": "markdown",
   "metadata": {},
   "source": [
    "#### 19424003 Hồ Trung Hiếu"
   ]
  },
  {
   "cell_type": "markdown",
   "metadata": {},
   "source": [
    "# THỐNG KÊ MÁY TÍNH VÀ ỨNG DỤNG"
   ]
  },
  {
   "cell_type": "markdown",
   "metadata": {},
   "source": [
    "## Bài 1: Một lớp học bắt đầu từ 8h và kết thúc lúc 10h. Giáo viên điểm danh vào thời điểm ngẫu nhiên trong khoảng thời gian  t=30  phút đầu. Một học sinh đến lớp vào thời điểm ngẫu nhiên trong giờ học (và học cho đến khi hết giờ).\n",
    "\n",
    "### a) Tính xác suất học sinh được điểm danh.\n",
    "\n",
    "### b) Khảo sát xác suất học sinh được điểm danh theo thời gian đầu  t  phút  (0≤t≤120)."
   ]
  },
  {
   "cell_type": "markdown",
   "metadata": {},
   "source": [
    "### phần a:"
   ]
  },
  {
   "cell_type": "code",
   "execution_count": 2,
   "metadata": {},
   "outputs": [
    {
     "data": {
      "image/png": "[encoded data removed]",
      "text/plain": [
       "<Figure size 432x288 with 1 Axes>"
      ]
     },
     "metadata": {
      "needs_background": "light"
     },
     "output_type": "display_data"
    }
   ],
   "source": [
    "\n",
    "k_list = range(0, 3) #truc ngang\n",
    "P_list = range(0,3)\n",
    "#P_Ak = 1 - perm(365, k)/365**k\n",
    "\n",
    "x1, y1 = [0,2], [0,2]\n",
    "x2, y2 = [0, 0.5], [0.5, 0.5]\n",
    "x3, y3 = [0.5, 0.5], [0,0.5]\n",
    "x4, y4 = [0, 2], [0.5, 0.5]\n",
    "plt.xlabel(\"time X\")\n",
    "plt.ylabel(\"time Y\")\n",
    "#\n",
    "plt.annotate(\"A\", (0, 0))\n",
    "plt.annotate(\"E\", (0.5, 0))\n",
    "plt.annotate(\"B\", (2, 0))\n",
    "plt.annotate(\"C\", (2, 2))\n",
    "plt.annotate(\"D\", (0, 2))\n",
    "plt.annotate(\"H\", (0, 0.5))\n",
    "plt.annotate(\"G\", (0.5, 0.5))\n",
    "plt.annotate(\"F\", (2, 0.5))\n",
    "plt.gca().set_aspect('equal', adjustable='box')\n",
    "\n",
    "plt.plot(x1, y1,x2,y2,x3,y3, x4,y4)\n",
    "plt.show()\n"
   ]
  },
  {
   "cell_type": "markdown",
   "metadata": {},
   "source": [
    "- Gọi y là thời gian điểm danh của giáo viên\n",
    "- Gọi x là thời gian đến lớp của học sinh\n",
    "- Do điểm danh ngẫu nhiên trong 30' đầu giờ \n",
    "- =>y ngẫu nhiên trong đoạn [0, 0.5]\n",
    "- x ngẫu nhiên trong đoạn [0, 2]"
   ]
  },
  {
   "cell_type": "markdown",
   "metadata": {},
   "source": [
    "Không gian mẫu $\\Omega = \\{(x,y) : x \\in [0,2], y\\in[0,0.5] \\}$ = hình chữ nhật ABFH"
   ]
  },
  {
   "cell_type": "markdown",
   "metadata": {},
   "source": [
    "- gọi E là biến cố học sinh được điểm danh\n"
   ]
  },
  {
   "cell_type": "markdown",
   "metadata": {},
   "source": [
    "- $E = \\{(x,y): y \\in [0,0.5], x\\in[0,2], 0 \\leq y-x \\}$ = hình vuông AEGH"
   ]
  },
  {
   "cell_type": "markdown",
   "metadata": {},
   "source": [
    "- Mô hình sài xác suất hình học\n",
    "- $P(E) = \\frac{S_{AEGH}}{S_{ABFH}} \n",
    "                        = \\frac{0.5 \\times 0.5}{0.5 \\times 2}\n",
    "                        = \\frac{1}{4}\n",
    "                        $"
   ]
  },
  {
   "cell_type": "markdown",
   "metadata": {},
   "source": [
    "### phần b:"
   ]
  },
  {
   "cell_type": "code",
   "execution_count": 3,
   "metadata": {},
   "outputs": [
    {
     "data": {
      "text/plain": [
       "0.12759"
      ]
     },
     "execution_count": 3,
     "metadata": {},
     "output_type": "execute_result"
    }
   ],
   "source": [
    "def diem_danh():\n",
    "    K_GV = [(i+1) for i in range(30)]\n",
    "    K_HS = [(i+1) for i in range(120)]\n",
    "    Time_GV = random.choice(K_GV)\n",
    "    Time_HS = random.choice(K_HS)\n",
    "    return Time_GV >= Time_HS\n",
    "\n",
    "def tuan_suat_do(N):\n",
    "    m = 0\n",
    "    for i in range(N):\n",
    "        if diem_danh():\n",
    "            m+=1\n",
    "    return m/N\n",
    "tuan_suat_do(100000)\n",
    "    "
   ]
  },
  {
   "cell_type": "markdown",
   "metadata": {},
   "source": [
    "## Bài 2: Bộ bài tiến lên 52 lá, xào “đều”, chia cho 4 người chơi. Khả năng có người được 13 lá khác số là hiếm cỡ nào?"
   ]
  },
  {
   "cell_type": "markdown",
   "metadata": {},
   "source": [
    "- Giả sử có 4 người chơi là A, B, C, D và người A là người được 13 lá khác số\n",
    "- Khi đó không gian mẫu là số cách chia 13 lá bài từ 52 lá\n",
    "=> $|\\Omega| = C_{52}^{13} $\n",
    "    "
   ]
  },
  {
   "cell_type": "markdown",
   "metadata": {},
   "source": [
    "- Gọi E là biến cố người chơi A nhận được 13 lá khác số\n",
    "- Mỗi giá trị sẽ có 4 cách chọn\n",
    "=> số kết quả thuận lợi cho E là:\n",
    " $|E|= 4^{13}$"
   ]
  },
  {
   "cell_type": "markdown",
   "metadata": {},
   "source": [
    "- vậy $P(E)=\\frac{|E|}{|\\Omega|}\n",
    "=\\frac{4^{13}}{C_{52}^{13}}\n",
    "\\approx {1.056 \\times 10^{-4}}\n",
    "\\approx {0.01056 \\%}\n",
    "$"
   ]
  },
  {
   "cell_type": "code",
   "execution_count": 4,
   "metadata": {},
   "outputs": [
    {
     "name": "stdout",
     "output_type": "stream",
     "text": [
      "10\n",
      "0.0001\n"
     ]
    }
   ],
   "source": [
    "import random\n",
    "\n",
    "def chon_bo_13():\n",
    "    bo_bai = [(\"CO\", i + 1) for i in range(13)] + [(\"RO\", i + 1) for i in range(13)] + [(\"CH\", i + 1) for i in range(13)] + [(\"BI\", i + 1) for i in range(13)]\n",
    "    return random.sample(bo_bai, 13)\n",
    " \n",
    "def tan_suat_do(N):\n",
    "    apear = 0\n",
    "    for i in range(N):\n",
    "        count = 0\n",
    "        temp = chon_bo_13()\n",
    "        for x in range(13):\n",
    "            for y in range(x+1, 13):\n",
    "                l1,v1 = temp[x]\n",
    "                l2,v2 = temp[y]\n",
    "                if v1==v2:\n",
    "                    count +=1\n",
    "                    break\n",
    "            if count > 0:\n",
    "                break\n",
    "        if count == 0:\n",
    "            apear +=1\n",
    "    print(apear)\n",
    "    return apear/N\n",
    "        \n",
    "print(tan_suat_do(100000))"
   ]
  }
 ],
 "metadata": {
  "kernelspec": {
   "display_name": "Python 3",
   "language": "python",
   "name": "python3"
  },
  "language_info": {
   "codemirror_mode": {
    "name": "ipython",
    "version": 3
   },
   "file_extension": ".py",
   "mimetype": "text/x-python",
   "name": "python",
   "nbconvert_exporter": "python",
   "pygments_lexer": "ipython3",
   "version": "3.7.6"
  }
 },
 "nbformat": 4,
 "nbformat_minor": 4
}
