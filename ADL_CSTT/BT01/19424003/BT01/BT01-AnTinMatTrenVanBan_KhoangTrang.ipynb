{
 "cells": [
  {
   "cell_type": "markdown",
   "metadata": {},
   "source": [
    "# BT01: Ẩn tin mật trên văn bản bằng phương pháp chèn khoảng trắng <font color=\"grey\">(chèn khoảng trắng giữa các từ để làm cho văn bản được căn lề 2 bên)\n",
    "\n",
    "\n",
    "Họ tên: Hồ Trung Hiếu\n",
    "\n",
    "MSSV: 19424003"
   ]
  },
  {
   "cell_type": "markdown",
   "metadata": {},
   "source": [
    "---\n",
    "## Cách làm bài và nộp bài\n",
    "&#9889; Bạn lưu ý là mình sẽ dùng chương trình hỗ trợ chấm bài nên bạn cần phải tuân thủ chính xác qui định mà mình đặt ra, nếu không rõ thì hỏi, chứ không nên tự tiện làm theo ý của cá nhân.\n",
    "\n",
    "**Cách làm bài**\n",
    "\n",
    "Bạn sẽ làm trực tiếp trên file notebook này. Đầu tiên, bạn điền họ tên và MSSV vào phần đầu file ở bên trên. Trong file, bạn làm bài ở những chỗ có ghi là:\n",
    "```python\n",
    "# YOUR CODE HERE\n",
    "raise NotImplementedError()\n",
    "```\n",
    "hoặc đối với những phần code không bắt buộc thì là:\n",
    "```python\n",
    "# YOUR CODE HERE (OPTION)\n",
    "```\n",
    "hoặc đối với markdown cell thì là:\n",
    "```markdown\n",
    "YOUR ANSWER HERE\n",
    "```\n",
    "Tất nhiên, khi làm thì bạn xóa dòng `raise NotImplementedError()` đi.\n",
    "Đối những phần yêu cầu code thì thường ở ngay phía dưới sẽ có một (hoặc một số) cell chứa các bộ test để giúp bạn biết đã code đúng hay chưa; nếu chạy cell này không có lỗi gì thì có nghĩa là qua được các bộ test. Trong một số trường hợp, các bộ test có thể sẽ không đầy đủ; nghĩa là, nếu không qua được test thì là code sai, nhưng nếu qua được test thì chưa chắc đã đúng hoàn toàn.\n",
    "\n",
    "Trong khi làm bài, bạn có thể cho in ra màn hình, tạo thêm các cell để test. Nhưng khi nộp bài thì bạn xóa các cell mà bạn tự tạo, xóa hoặc comment các câu lệnh in ra màn hình. Bạn lưu ý <font color=red>không được tự tiện xóa các cell hay sửa code của Thầy</font> (trừ những chỗ được phép sửa như đã nói ở trên).\n",
    "\n",
    "Trong khi làm bài, thường xuyên `Ctrl + S` để lưu lại bài làm của bạn, tránh mất mát thông tin.\n",
    "\n",
    "\n",
    "*Nên nhớ mục tiêu chính ở đây là <font color=green>học, học một cách chân thật</font>. Bạn có thể thảo luận ý tưởng với bạn khác, nhưng <font color=green>code và bài làm phải là của bạn, dựa trên sự hiểu thật sự của bạn</font>. <font color=red>Nếu vi phạm thì sẽ bị 0 điểm cho toàn bộ môn học.</font>*\n",
    "\n",
    "**Cách nộp bài**\n",
    "\n",
    "Khi chấm bài, đầu tiên mình sẽ chọn `Kernel` - `Restart Kernel & Run All Cells`, để restart và chạy tất cả các cell trong notebook của bạn; do đó, trước khi nộp bài, bạn nên chạy thử `Kernel` - `Restart Kernel & Run All Cells` để đảm bảo mọi chuyện diễn ra đúng như mong đợi.\n",
    "\n",
    "Sau đó, bạn tạo thư mục nộp bài theo cấu trúc sau:\n",
    "- Thư mục `MSSV` (vd, nếu bạn có MSSV là 1234567 thì bạn đặt tên thư mục là `1234567`)\n",
    "    - Thư mục `BT01`\n",
    "        - File `BT01-AnTinMatTrenVanBan_KhoangTrang.ipynb` (không cần nộp các file khác)\n",
    "\n",
    "Cuối cùng, bạn nén thư mục `MSSV` này lại và nộp ở link trên moodle. <font color=red>Bạn lưu ý tuân thủ chính xác cấu trúc này.</font>"
   ]
  },
  {
   "cell_type": "markdown",
   "metadata": {},
   "source": [
    "## 2. Import"
   ]
  },
  {
   "cell_type": "code",
   "execution_count": 4,
   "metadata": {},
   "outputs": [],
   "source": [
    "from bitarray import bitarray\n",
    "import math"
   ]
  },
  {
   "cell_type": "markdown",
   "metadata": {},
   "source": [
    "## 3. Hàm nhúng (6đ)"
   ]
  },
  {
   "cell_type": "code",
   "execution_count": 15,
   "metadata": {
    "deletable": false,
    "nbgrader": {
     "cell_type": "code",
     "checksum": "620c8c02cddbfa7e68400a1cd6099a5d",
     "grade": false,
     "grade_id": "cell-2f21b430087c5c35",
     "locked": false,
     "schema_version": 3,
     "solution": true,
     "task": false
    }
   },
   "outputs": [
    {
     "output_type": "stream",
     "name": "stdout",
     "text": [
      "1 57 1\n2 70 -1\n3 4 10\n4 10 10\n5 70 -1\n6 0 10\n7 9 9\n8 4 7\n9 13 6\n10 70 -1\n11 1 12\n12 2 8\n13 0 11\n14 2 10\n15 3 12\n16 5 10\n17 2 9\n18 7 6\n19 29 4\n20 70 -1\n21 4 9\n22 4 10\n23 1 9\n24 8 9\n25 12 7\n26 70 -1\n27 2 10\n28 4 8\n29 0 12\n30 55 2\n31 70 -1\n32 1 7\n33 0 7\n34 1 10\n35 6 10\n36 1 8\n37 0 12\n38 3 11\n39 2 11\n40 30 7\n41 70 -1\n42 1 12\n43 1 9\n44 1 12\n45 3 9\n46 1 12\n47 4 11\n48 2 8\n49 0 13\n50 0 10\n51 2 9\n52 70 -1\n53 2 8\n54 0 10\n55 5 6\n56 7 7\n57 60 0\n58 70 -1\n59 67 0\n"
     ]
    },
    {
     "output_type": "execute_result",
     "data": {
      "text/plain": [
       "True"
      ]
     },
     "metadata": {},
     "execution_count": 15
    }
   ],
   "source": [
    "def embed(msg_file, cover_text_file, text_width, stego_text_file):\n",
    "    '''\n",
    "    Nhúng tin mật vào văn bản bằng phương pháp chèn khoảng trắng \n",
    "    để văn bản được căn lề 2 bên.\n",
    "    \n",
    "    Các tham số:\n",
    "        msg_file (str): Tên file chứa secret message.\n",
    "        cover_text_file (str): Tên file chứa cover text.\n",
    "        text_width (int): Chiều dài của dòng sau khi được căn lề.\n",
    "        stego_text_file (str): Tên file chứa stego text.\n",
    "    Giá trị trả về:\n",
    "        bool: True nếu nhúng thành không, False nếu không đủ chỗ để nhúng. \n",
    "    '''\n",
    "    # Read cover text file\n",
    "    with open(cover_text_file, 'r') as f:\n",
    "        cover_text_lines = f.read().splitlines()\n",
    "    \n",
    "    # Read msg file\n",
    "    with open(msg_file, 'r') as f:\n",
    "        msg = f.read()\n",
    "    \n",
    "    # Convert msg to msg bits\n",
    "    msg_bits = bitarray()\n",
    "    msg_bits.fromstring(msg)\n",
    "    \n",
    "    # Embed msg bits into cover text lines\n",
    "    stego_text = ''\n",
    "    b = 0 #chi so tung bit cua meg_bits\n",
    "    i=0 #chi so dong cua covertext\n",
    "    countEnd = 0\n",
    "    while i< len(cover_text_lines): # duyet tung dong\n",
    "        listchar = list(cover_text_lines[i])#list cac tu o line i thanh cac ky tu\n",
    "        idx_space = [temp for temp in range(len(cover_text_lines[i])) if cover_text_lines[i][temp] == \" \" ]\n",
    "        if len(cover_text_lines[i]) <= text_width: #dong co the can le\n",
    "            n = len(cover_text_lines[i].split()) -1 #so khoang trong cua dong i(in line)\n",
    "            m = text_width - len(cover_text_lines[i]) #so khoang trang de dong i can le(cuoi dong)\n",
    "            print(i + 1, m, n)\n",
    "            if 0 < m and m < n:\n",
    "                x = 0\n",
    "                count = 0\n",
    "                while count < min(m, n-m):#duyệt min cap khoang trang->so khong trang chen duoc trong dong dau tien tu 0->min\n",
    "                    if b < len(msg_bits):\n",
    "                        if not msg_bits[b]:\n",
    "                            listchar[int(idx_space[x])] = '  '#chen bit 0\n",
    "                            x+=2\n",
    "                        else:\n",
    "                            x += 1\n",
    "                            listchar[int(idx_space[x])] = '  '#chen bit 1\n",
    "                            x += 1\n",
    "                        b += 1\n",
    "                    else:\n",
    "                        if countEnd == 0:\n",
    "                            x += 1\n",
    "                            listchar[int(idx_space[x])] = '  '#nhung 1\n",
    "                            x += 1\n",
    "                            countEnd +=1\n",
    "                        else:\n",
    "                            listchar[int(idx_space[x])] = '  '#nhung 0\n",
    "                            x += 2\n",
    "                    count+=1\n",
    "                if min(m, n-m) == n-m: #cac khoang trang con lai\n",
    "                    runF = n-m\n",
    "                    for temp in range(runF, n):\n",
    "                        #print(temp)\n",
    "                        listchar[int(idx_space[temp])] = '  '\n",
    "                        #print('orther', i, b, temp, idx_space[temp], ''.join(listchar))\n",
    "                listchar = ''.join(listchar)\n",
    "                stego_text += listchar\n",
    "            if m > n:\n",
    "                listchar = ''.join(listchar)\n",
    "                stego_text += listchar\n",
    "            if m == n:\n",
    "                for temp in range(0, m):\n",
    "                    listchar[int(idx_space[temp])] = '  '\n",
    "                listchar = ''.join(listchar)\n",
    "                stego_text += listchar\n",
    "                \n",
    "            if i + 1 != len(cover_text_lines):\n",
    "                    stego_text += '\\n'\n",
    "        i+=1\n",
    "    \n",
    "    if b < len(msg_bits):\n",
    "        print('Not enough spaces to embed!')\n",
    "        return False\n",
    "    \n",
    "    # Write stego text to file\n",
    "    with open(stego_text_file, 'w') as f:\n",
    "        f.write(stego_text)\n",
    "    return True\n",
    "\n",
    "embed('msg.txt', 'cover.txt', 70, 'stego.txt')"
   ]
  },
  {
   "cell_type": "code",
   "execution_count": 67,
   "metadata": {
    "deletable": false,
    "editable": false,
    "nbgrader": {
     "cell_type": "code",
     "checksum": "85f0c8333ec0a8e0ed17110b6f0e215d",
     "grade": true,
     "grade_id": "cell-057a58bf038e1e60",
     "locked": true,
     "points": 5,
     "schema_version": 3,
     "solution": false,
     "task": false
    }
   },
   "outputs": [
    {
     "output_type": "stream",
     "name": "stdout",
     "text": [
      "4 10\n4 7\norther 7 7 3 32 steganography  combines the  Greek  words steganos,  meaning \"covered,\norther 7 7 4 38 steganography  combines the  Greek  words  steganos,  meaning \"covered,\norther 7 7 5 48 steganography  combines the  Greek  words  steganos,  meaning \"covered,\norther 7 7 6 56 steganography  combines the  Greek  words  steganos,  meaning  \"covered,\n1 12\n2 8\n2 10\n3 12\n5 10\norther 15 20 5 39 invisible ink  between  the visible  lines  of a  private  letter. Some\norther 15 20 6 42 invisible ink  between  the visible  lines  of  a  private  letter. Some\norther 15 20 7 44 invisible ink  between  the visible  lines  of  a  private  letter. Some\norther 15 20 8 52 invisible ink  between  the visible  lines  of  a  private  letter. Some\norther 15 20 9 60 invisible ink  between  the visible  lines  of  a  private  letter.  Some\n2 9\n4 9\n4 10\n1 9\n8 9\norther 23 32 1 16 unbreakable they  are, arouse interest and may in themselves be\norther 23 32 2 21 unbreakable they  are,  arouse interest and may in themselves be\norther 23 32 3 28 unbreakable they  are,  arouse  interest and may in themselves be\norther 23 32 4 37 unbreakable they  are,  arouse  interest  and may in themselves be\norther 23 32 5 41 unbreakable they  are,  arouse  interest  and  may in themselves be\norther 23 32 6 45 unbreakable they  are,  arouse  interest  and  may  in themselves be\norther 23 32 7 48 unbreakable they  are,  arouse  interest  and  may  in  themselves be\norther 23 32 8 59 unbreakable they  are,  arouse  interest  and  may  in  themselves  be\n2 10\n4 8\norther 27 38 4 41 message alone,  steganography  is concerned  with concealing  the fact\norther 27 38 5 46 message alone,  steganography  is concerned  with  concealing  the fact\norther 27 38 6 57 message alone,  steganography  is concerned  with  concealing  the fact\norther 27 38 7 61 message alone,  steganography  is concerned  with  concealing  the  fact\n1 7\n1 10\n6 10\norther 34 44 4 28 file,  image file, program  or  protocol.  Media  files are ideal for\norther 34 44 5 38 file,  image file, program  or  protocol.  Media  files are ideal for\norther 34 44 6 44 file,  image file, program  or  protocol.  Media  files are ideal for\norther 34 44 7 50 file,  image file, program  or  protocol.  Media  files  are ideal for\norther 34 44 8 54 file,  image file, program  or  protocol.  Media  files  are  ideal for\norther 34 44 9 60 file,  image file, program  or  protocol.  Media  files  are  ideal  for\n1 8\n3 11\n2 11\n1 12\n1 9\n1 12\n3 9\n1 12\nelse\n4 11\nelse\nelse\nelse\nelse\n2 8\nelse\nelse\n2 9\nelse\nelse\n2 8\nelse\nelse\n5 6\nelse\norther 54 56 1 22 \"Auctor  Sapientissimus  Conseruans Angelica Deferat Nobis Charitas\norther 54 56 2 33 \"Auctor  Sapientissimus  Conseruans  Angelica Deferat Nobis Charitas\norther 54 56 3 42 \"Auctor  Sapientissimus  Conseruans  Angelica  Deferat Nobis Charitas\norther 54 56 4 50 \"Auctor  Sapientissimus  Conseruans  Angelica  Deferat  Nobis Charitas\norther 54 56 5 56 \"Auctor  Sapientissimus  Conseruans  Angelica  Deferat  Nobis  Charitas\n"
     ]
    },
    {
     "output_type": "error",
     "ename": "AssertionError",
     "evalue": "",
     "traceback": [
      "\u001b[1;31m---------------------------------------------------------------------------\u001b[0m",
      "\u001b[1;31mAssertionError\u001b[0m                            Traceback (most recent call last)",
      "\u001b[1;32m<ipython-input-67-9068a209e8be>\u001b[0m in \u001b[0;36m<module>\u001b[1;34m\u001b[0m\n\u001b[0;32m      6\u001b[0m \u001b[1;32mwith\u001b[0m \u001b[0mopen\u001b[0m\u001b[1;33m(\u001b[0m\u001b[1;34m'correct_stego.txt'\u001b[0m\u001b[1;33m,\u001b[0m \u001b[1;34m'r'\u001b[0m\u001b[1;33m)\u001b[0m \u001b[1;32mas\u001b[0m \u001b[0mf\u001b[0m\u001b[1;33m:\u001b[0m\u001b[1;33m\u001b[0m\u001b[1;33m\u001b[0m\u001b[0m\n\u001b[0;32m      7\u001b[0m     \u001b[0mcorrect_stego_text\u001b[0m \u001b[1;33m=\u001b[0m \u001b[0mf\u001b[0m\u001b[1;33m.\u001b[0m\u001b[0mread\u001b[0m\u001b[1;33m(\u001b[0m\u001b[1;33m)\u001b[0m\u001b[1;33m\u001b[0m\u001b[1;33m\u001b[0m\u001b[0m\n\u001b[1;32m----> 8\u001b[1;33m \u001b[1;32massert\u001b[0m \u001b[0mstego_text\u001b[0m \u001b[1;33m==\u001b[0m \u001b[0mcorrect_stego_text\u001b[0m\u001b[1;33m\u001b[0m\u001b[1;33m\u001b[0m\u001b[0m\n\u001b[0m",
      "\u001b[1;31mAssertionError\u001b[0m: "
     ]
    }
   ],
   "source": [
    "# TEST 1            \n",
    "result = embed('msg.txt', 'cover.txt', 70, 'stego.txt')\n",
    "assert result == True\n",
    "with open('stego.txt', 'r') as f:\n",
    "    stego_text = f.read()\n",
    "with open('correct_stego.txt', 'r') as f:\n",
    "    correct_stego_text = f.read()\n",
    "assert stego_text == correct_stego_text"
   ]
  },
  {
   "cell_type": "code",
   "execution_count": 201,
   "metadata": {
    "deletable": false,
    "editable": false,
    "nbgrader": {
     "cell_type": "code",
     "checksum": "056ce8f73d36fbfd94beec3c97ec6fff",
     "grade": true,
     "grade_id": "cell-f625774497df6542",
     "locked": true,
     "points": 1,
     "schema_version": 3,
     "solution": false,
     "task": false
    }
   },
   "outputs": [
    {
     "name": "stdout",
     "output_type": "stream",
     "text": [
      "Not enough spaces to embed!\n"
     ]
    }
   ],
   "source": [
    "# TEST 2\n",
    "result = embed('msg2.txt', 'cover.txt', 70, 'stego.txt')\n",
    "assert result == False"
   ]
  },
  {
   "cell_type": "markdown",
   "metadata": {},
   "source": [
    "## 4. Hàm rút trích (4đ)"
   ]
  },
  {
   "cell_type": "code",
   "execution_count": 108,
   "metadata": {
    "deletable": false,
    "nbgrader": {
     "cell_type": "code",
     "checksum": "ab47043df0f050695b889c3d5ad57de2",
     "grade": false,
     "grade_id": "cell-f3f9b34770f282aa",
     "locked": false,
     "schema_version": 3,
     "solution": true,
     "task": false
    }
   },
   "outputs": [],
   "source": [
    "def extract(stego_text_file, extr_msg_file):\n",
    "    '''\n",
    "    Hàm rút trích tin mật đã được nhúng bằng phương pháp chèn khoảng trắng.\n",
    "    \n",
    "    Các tham số:\n",
    "        stego_text_file (str): Tên file chứa stego text.\n",
    "        extr_msg_file (str): Tên file chứa secret message được rút trích.\n",
    "    '''\n",
    "    # YOUR CODE HERE\n",
    "    raise NotImplementedError()"
   ]
  },
  {
   "cell_type": "code",
   "execution_count": null,
   "metadata": {
    "deletable": false,
    "editable": false,
    "nbgrader": {
     "cell_type": "code",
     "checksum": "cfe71ad39ca82548561ca5dcb025874d",
     "grade": true,
     "grade_id": "cell-caf1afe26d95b670",
     "locked": true,
     "points": 4,
     "schema_version": 3,
     "solution": false,
     "task": false
    }
   },
   "outputs": [],
   "source": [
    "# TEST\n",
    "extract('correct_stego.txt', 'extr_msg.txt')\n",
    "with open('extr_msg.txt', 'r') as f:\n",
    "    extr_msg = f.read()\n",
    "with open('correct_extr_msg.txt', 'r') as f:\n",
    "    correct_extr_msg = f.read()\n",
    "assert extr_msg == correct_extr_msg"
   ]
  }
 ],
 "metadata": {
  "anaconda-cloud": {},
  "kernelspec": {
   "display_name": "Python 3",
   "language": "python",
   "name": "python3"
  },
  "language_info": {
   "codemirror_mode": {
    "name": "ipython",
    "version": 3
   },
   "file_extension": ".py",
   "mimetype": "text/x-python",
   "name": "python",
   "nbconvert_exporter": "python",
   "pygments_lexer": "ipython3",
   "version": "3.7.6-final"
  },
  "toc": {
   "nav_menu": {},
   "number_sections": false,
   "sideBar": true,
   "skip_h1_title": true,
   "title_cell": "Table of Contents",
   "title_sidebar": "Contents",
   "toc_cell": false,
   "toc_position": {
    "height": "calc(100% - 180px)",
    "left": "10px",
    "top": "150px",
    "width": "165px"
   },
   "toc_section_display": true,
   "toc_window_display": true
  }
 },
 "nbformat": 4,
 "nbformat_minor": 4
}